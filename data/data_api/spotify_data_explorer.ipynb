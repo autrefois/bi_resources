{
 "cells": [
  {
   "cell_type": "markdown",
   "metadata": {},
   "source": [
    "# Data Loader"
   ]
  },
  {
   "cell_type": "markdown",
   "metadata": {},
   "source": [
    "### Install dependencies"
   ]
  },
  {
   "cell_type": "code",
   "execution_count": null,
   "metadata": {},
   "outputs": [],
   "source": [
    "%pip install --upgrade pip\n",
    "%pip install -r requirements.txt"
   ]
  },
  {
   "cell_type": "markdown",
   "metadata": {},
   "source": [
    "### Import helpers"
   ]
  },
  {
   "cell_type": "code",
   "execution_count": 1,
   "metadata": {},
   "outputs": [],
   "source": [
    "import utils.spotify_helper as spotify_helper\n",
    "import utils.google_helper as google_helper\n",
    "from datetime import datetime\n",
    "import pandas as pd\n",
    "\n",
    "artist_name = 'Bullet For My Valentine'"
   ]
  },
  {
   "cell_type": "markdown",
   "metadata": {},
   "source": [
    "### Get Spotify data"
   ]
  },
  {
   "cell_type": "code",
   "execution_count": 2,
   "metadata": {},
   "outputs": [
    {
     "data": {
      "text/html": [
       "<div>\n",
       "<style scoped>\n",
       "    .dataframe tbody tr th:only-of-type {\n",
       "        vertical-align: middle;\n",
       "    }\n",
       "\n",
       "    .dataframe tbody tr th {\n",
       "        vertical-align: top;\n",
       "    }\n",
       "\n",
       "    .dataframe thead th {\n",
       "        text-align: right;\n",
       "    }\n",
       "</style>\n",
       "<table border=\"1\" class=\"dataframe\">\n",
       "  <thead>\n",
       "    <tr style=\"text-align: right;\">\n",
       "      <th></th>\n",
       "      <th>album</th>\n",
       "      <th>artists</th>\n",
       "      <th>available_markets</th>\n",
       "      <th>disc_number</th>\n",
       "      <th>duration_ms</th>\n",
       "      <th>explicit</th>\n",
       "      <th>external_ids</th>\n",
       "      <th>external_urls</th>\n",
       "      <th>href</th>\n",
       "      <th>id</th>\n",
       "      <th>is_local</th>\n",
       "      <th>name</th>\n",
       "      <th>popularity</th>\n",
       "      <th>preview_url</th>\n",
       "      <th>track_number</th>\n",
       "      <th>type</th>\n",
       "      <th>uri</th>\n",
       "      <th>artist_id</th>\n",
       "    </tr>\n",
       "  </thead>\n",
       "  <tbody>\n",
       "    <tr>\n",
       "      <th>0</th>\n",
       "      <td>{'album_type': 'album', 'artists': [{'external...</td>\n",
       "      <td>[{'external_urls': {'spotify': 'https://open.s...</td>\n",
       "      <td>[AD, AE, AG, AL, AO, AR, AU, BA, BB, BD, BE, B...</td>\n",
       "      <td>1.0</td>\n",
       "      <td>348386.0</td>\n",
       "      <td>True</td>\n",
       "      <td>{'isrc': 'GBHQD0500017'}</td>\n",
       "      <td>{'spotify': 'https://open.spotify.com/track/1k...</td>\n",
       "      <td>https://api.spotify.com/v1/tracks/1kdiiFGX1Htx...</td>\n",
       "      <td>1kdiiFGX1Htx0aVZYaDwEJ</td>\n",
       "      <td>False</td>\n",
       "      <td>Tears Don't Fall</td>\n",
       "      <td>63.0</td>\n",
       "      <td>https://p.scdn.co/mp3-preview/ef505a6aa428f9b2...</td>\n",
       "      <td>4.0</td>\n",
       "      <td>track</td>\n",
       "      <td>spotify:track:1kdiiFGX1Htx0aVZYaDwEJ</td>\n",
       "      <td>7iWiAD5LLKyiox2grgfmUT</td>\n",
       "    </tr>\n",
       "    <tr>\n",
       "      <th>1</th>\n",
       "      <td>{'album_type': 'album', 'artists': [{'external...</td>\n",
       "      <td>[{'external_urls': {'spotify': 'https://open.s...</td>\n",
       "      <td>[AD, AE, AG, AL, AM, AO, AR, AT, AU, AZ, BA, B...</td>\n",
       "      <td>1.0</td>\n",
       "      <td>291426.0</td>\n",
       "      <td>False</td>\n",
       "      <td>{'isrc': 'USJI11000030'}</td>\n",
       "      <td>{'spotify': 'https://open.spotify.com/track/25...</td>\n",
       "      <td>https://api.spotify.com/v1/tracks/25GC50Hslaar...</td>\n",
       "      <td>25GC50HslaaruyrKjdu0lP</td>\n",
       "      <td>False</td>\n",
       "      <td>Your Betrayal</td>\n",
       "      <td>68.0</td>\n",
       "      <td>https://p.scdn.co/mp3-preview/abaa960cf3aa8174...</td>\n",
       "      <td>1.0</td>\n",
       "      <td>track</td>\n",
       "      <td>spotify:track:25GC50HslaaruyrKjdu0lP</td>\n",
       "      <td>7iWiAD5LLKyiox2grgfmUT</td>\n",
       "    </tr>\n",
       "    <tr>\n",
       "      <th>2</th>\n",
       "      <td>{'album_type': 'single', 'artists': [{'externa...</td>\n",
       "      <td>[{'external_urls': {'spotify': 'https://open.s...</td>\n",
       "      <td>[US]</td>\n",
       "      <td>1.0</td>\n",
       "      <td>217453.0</td>\n",
       "      <td>False</td>\n",
       "      <td>{'isrc': 'GBHQD0400003'}</td>\n",
       "      <td>{'spotify': 'https://open.spotify.com/track/5J...</td>\n",
       "      <td>https://api.spotify.com/v1/tracks/5JWDt4NZNiZQ...</td>\n",
       "      <td>5JWDt4NZNiZQR8iMenaa7h</td>\n",
       "      <td>False</td>\n",
       "      <td>Hand Of Blood</td>\n",
       "      <td>52.0</td>\n",
       "      <td>https://p.scdn.co/mp3-preview/298087112f225b54...</td>\n",
       "      <td>2.0</td>\n",
       "      <td>track</td>\n",
       "      <td>spotify:track:5JWDt4NZNiZQR8iMenaa7h</td>\n",
       "      <td>7iWiAD5LLKyiox2grgfmUT</td>\n",
       "    </tr>\n",
       "  </tbody>\n",
       "</table>\n",
       "</div>"
      ],
      "text/plain": [
       "                                               album  \\\n",
       "0  {'album_type': 'album', 'artists': [{'external...   \n",
       "1  {'album_type': 'album', 'artists': [{'external...   \n",
       "2  {'album_type': 'single', 'artists': [{'externa...   \n",
       "\n",
       "                                             artists  \\\n",
       "0  [{'external_urls': {'spotify': 'https://open.s...   \n",
       "1  [{'external_urls': {'spotify': 'https://open.s...   \n",
       "2  [{'external_urls': {'spotify': 'https://open.s...   \n",
       "\n",
       "                                   available_markets  disc_number  \\\n",
       "0  [AD, AE, AG, AL, AO, AR, AU, BA, BB, BD, BE, B...          1.0   \n",
       "1  [AD, AE, AG, AL, AM, AO, AR, AT, AU, AZ, BA, B...          1.0   \n",
       "2                                               [US]          1.0   \n",
       "\n",
       "   duration_ms explicit              external_ids  \\\n",
       "0     348386.0     True  {'isrc': 'GBHQD0500017'}   \n",
       "1     291426.0    False  {'isrc': 'USJI11000030'}   \n",
       "2     217453.0    False  {'isrc': 'GBHQD0400003'}   \n",
       "\n",
       "                                       external_urls  \\\n",
       "0  {'spotify': 'https://open.spotify.com/track/1k...   \n",
       "1  {'spotify': 'https://open.spotify.com/track/25...   \n",
       "2  {'spotify': 'https://open.spotify.com/track/5J...   \n",
       "\n",
       "                                                href                      id  \\\n",
       "0  https://api.spotify.com/v1/tracks/1kdiiFGX1Htx...  1kdiiFGX1Htx0aVZYaDwEJ   \n",
       "1  https://api.spotify.com/v1/tracks/25GC50Hslaar...  25GC50HslaaruyrKjdu0lP   \n",
       "2  https://api.spotify.com/v1/tracks/5JWDt4NZNiZQ...  5JWDt4NZNiZQR8iMenaa7h   \n",
       "\n",
       "  is_local              name  popularity  \\\n",
       "0    False  Tears Don't Fall        63.0   \n",
       "1    False     Your Betrayal        68.0   \n",
       "2    False     Hand Of Blood        52.0   \n",
       "\n",
       "                                         preview_url  track_number   type  \\\n",
       "0  https://p.scdn.co/mp3-preview/ef505a6aa428f9b2...           4.0  track   \n",
       "1  https://p.scdn.co/mp3-preview/abaa960cf3aa8174...           1.0  track   \n",
       "2  https://p.scdn.co/mp3-preview/298087112f225b54...           2.0  track   \n",
       "\n",
       "                                    uri               artist_id  \n",
       "0  spotify:track:1kdiiFGX1Htx0aVZYaDwEJ  7iWiAD5LLKyiox2grgfmUT  \n",
       "1  spotify:track:25GC50HslaaruyrKjdu0lP  7iWiAD5LLKyiox2grgfmUT  \n",
       "2  spotify:track:5JWDt4NZNiZQR8iMenaa7h  7iWiAD5LLKyiox2grgfmUT  "
      ]
     },
     "execution_count": 2,
     "metadata": {},
     "output_type": "execute_result"
    }
   ],
   "source": [
    "spotify = spotify_helper.SpotifyHelper()\n",
    "\n",
    "tracks = spotify.get_artist_tracks(artist=artist_name)\n",
    "tracks.head(3)\n",
    "# quibus_tracks.shape"
   ]
  },
  {
   "cell_type": "markdown",
   "metadata": {},
   "source": [
    "### Remove unnecesary columns"
   ]
  },
  {
   "cell_type": "code",
   "execution_count": 3,
   "metadata": {},
   "outputs": [
    {
     "data": {
      "text/html": [
       "<div>\n",
       "<style scoped>\n",
       "    .dataframe tbody tr th:only-of-type {\n",
       "        vertical-align: middle;\n",
       "    }\n",
       "\n",
       "    .dataframe tbody tr th {\n",
       "        vertical-align: top;\n",
       "    }\n",
       "\n",
       "    .dataframe thead th {\n",
       "        text-align: right;\n",
       "    }\n",
       "</style>\n",
       "<table border=\"1\" class=\"dataframe\">\n",
       "  <thead>\n",
       "    <tr style=\"text-align: right;\">\n",
       "      <th></th>\n",
       "      <th>duration_ms</th>\n",
       "      <th>explicit</th>\n",
       "      <th>id</th>\n",
       "      <th>name</th>\n",
       "      <th>track_number</th>\n",
       "      <th>type</th>\n",
       "      <th>uri</th>\n",
       "      <th>artist_id</th>\n",
       "    </tr>\n",
       "  </thead>\n",
       "  <tbody>\n",
       "    <tr>\n",
       "      <th>0</th>\n",
       "      <td>348386.0</td>\n",
       "      <td>True</td>\n",
       "      <td>1kdiiFGX1Htx0aVZYaDwEJ</td>\n",
       "      <td>Tears Don't Fall</td>\n",
       "      <td>4.0</td>\n",
       "      <td>track</td>\n",
       "      <td>spotify:track:1kdiiFGX1Htx0aVZYaDwEJ</td>\n",
       "      <td>7iWiAD5LLKyiox2grgfmUT</td>\n",
       "    </tr>\n",
       "    <tr>\n",
       "      <th>1</th>\n",
       "      <td>291426.0</td>\n",
       "      <td>False</td>\n",
       "      <td>25GC50HslaaruyrKjdu0lP</td>\n",
       "      <td>Your Betrayal</td>\n",
       "      <td>1.0</td>\n",
       "      <td>track</td>\n",
       "      <td>spotify:track:25GC50HslaaruyrKjdu0lP</td>\n",
       "      <td>7iWiAD5LLKyiox2grgfmUT</td>\n",
       "    </tr>\n",
       "    <tr>\n",
       "      <th>2</th>\n",
       "      <td>217453.0</td>\n",
       "      <td>False</td>\n",
       "      <td>5JWDt4NZNiZQR8iMenaa7h</td>\n",
       "      <td>Hand Of Blood</td>\n",
       "      <td>2.0</td>\n",
       "      <td>track</td>\n",
       "      <td>spotify:track:5JWDt4NZNiZQR8iMenaa7h</td>\n",
       "      <td>7iWiAD5LLKyiox2grgfmUT</td>\n",
       "    </tr>\n",
       "  </tbody>\n",
       "</table>\n",
       "</div>"
      ],
      "text/plain": [
       "   duration_ms explicit                      id              name  \\\n",
       "0     348386.0     True  1kdiiFGX1Htx0aVZYaDwEJ  Tears Don't Fall   \n",
       "1     291426.0    False  25GC50HslaaruyrKjdu0lP     Your Betrayal   \n",
       "2     217453.0    False  5JWDt4NZNiZQR8iMenaa7h     Hand Of Blood   \n",
       "\n",
       "   track_number   type                                   uri  \\\n",
       "0           4.0  track  spotify:track:1kdiiFGX1Htx0aVZYaDwEJ   \n",
       "1           1.0  track  spotify:track:25GC50HslaaruyrKjdu0lP   \n",
       "2           2.0  track  spotify:track:5JWDt4NZNiZQR8iMenaa7h   \n",
       "\n",
       "                artist_id  \n",
       "0  7iWiAD5LLKyiox2grgfmUT  \n",
       "1  7iWiAD5LLKyiox2grgfmUT  \n",
       "2  7iWiAD5LLKyiox2grgfmUT  "
      ]
     },
     "execution_count": 3,
     "metadata": {},
     "output_type": "execute_result"
    }
   ],
   "source": [
    "tracks.drop('popularity', axis=1, inplace=True)\n",
    "tracks.drop('album', axis=1, inplace=True)\n",
    "tracks.drop('artists', axis=1, inplace=True)\n",
    "tracks.drop('available_markets', axis=1, inplace=True)\n",
    "tracks.drop('disc_number', axis=1, inplace=True)\n",
    "tracks.drop('external_ids', axis=1, inplace=True)\n",
    "tracks.drop('href', axis=1, inplace=True)\n",
    "tracks.drop('preview_url', axis=1, inplace=True)\n",
    "tracks.drop('external_urls', axis=1, inplace=True)\n",
    "tracks.drop('is_local', axis=1, inplace=True)\n",
    "tracks.head(3)"
   ]
  },
  {
   "cell_type": "markdown",
   "metadata": {},
   "source": [
    "### Change dataframe columns to fit BigQuery table structure"
   ]
  },
  {
   "cell_type": "code",
   "execution_count": 4,
   "metadata": {},
   "outputs": [
    {
     "data": {
      "text/html": [
       "<div>\n",
       "<style scoped>\n",
       "    .dataframe tbody tr th:only-of-type {\n",
       "        vertical-align: middle;\n",
       "    }\n",
       "\n",
       "    .dataframe tbody tr th {\n",
       "        vertical-align: top;\n",
       "    }\n",
       "\n",
       "    .dataframe thead th {\n",
       "        text-align: right;\n",
       "    }\n",
       "</style>\n",
       "<table border=\"1\" class=\"dataframe\">\n",
       "  <thead>\n",
       "    <tr style=\"text-align: right;\">\n",
       "      <th></th>\n",
       "      <th>id</th>\n",
       "      <th>artist_id</th>\n",
       "      <th>name</th>\n",
       "      <th>explicit</th>\n",
       "    </tr>\n",
       "  </thead>\n",
       "  <tbody>\n",
       "    <tr>\n",
       "      <th>0</th>\n",
       "      <td>1kdiiFGX1Htx0aVZYaDwEJ</td>\n",
       "      <td>7iWiAD5LLKyiox2grgfmUT</td>\n",
       "      <td>Tears Don't Fall</td>\n",
       "      <td>True</td>\n",
       "    </tr>\n",
       "    <tr>\n",
       "      <th>1</th>\n",
       "      <td>25GC50HslaaruyrKjdu0lP</td>\n",
       "      <td>7iWiAD5LLKyiox2grgfmUT</td>\n",
       "      <td>Your Betrayal</td>\n",
       "      <td>False</td>\n",
       "    </tr>\n",
       "    <tr>\n",
       "      <th>2</th>\n",
       "      <td>5JWDt4NZNiZQR8iMenaa7h</td>\n",
       "      <td>7iWiAD5LLKyiox2grgfmUT</td>\n",
       "      <td>Hand Of Blood</td>\n",
       "      <td>False</td>\n",
       "    </tr>\n",
       "  </tbody>\n",
       "</table>\n",
       "</div>"
      ],
      "text/plain": [
       "                       id               artist_id              name explicit\n",
       "0  1kdiiFGX1Htx0aVZYaDwEJ  7iWiAD5LLKyiox2grgfmUT  Tears Don't Fall     True\n",
       "1  25GC50HslaaruyrKjdu0lP  7iWiAD5LLKyiox2grgfmUT     Your Betrayal    False\n",
       "2  5JWDt4NZNiZQR8iMenaa7h  7iWiAD5LLKyiox2grgfmUT     Hand Of Blood    False"
      ]
     },
     "execution_count": 4,
     "metadata": {},
     "output_type": "execute_result"
    }
   ],
   "source": [
    "tracks = tracks.reindex(columns= ['id', 'artist_id', 'name', 'explicit'])\n",
    "tracks.head(3)"
   ]
  },
  {
   "cell_type": "markdown",
   "metadata": {},
   "source": [
    "### Get artist details"
   ]
  },
  {
   "cell_type": "code",
   "execution_count": 5,
   "metadata": {},
   "outputs": [
    {
     "data": {
      "text/html": [
       "<div>\n",
       "<style scoped>\n",
       "    .dataframe tbody tr th:only-of-type {\n",
       "        vertical-align: middle;\n",
       "    }\n",
       "\n",
       "    .dataframe tbody tr th {\n",
       "        vertical-align: top;\n",
       "    }\n",
       "\n",
       "    .dataframe thead th {\n",
       "        text-align: right;\n",
       "    }\n",
       "</style>\n",
       "<table border=\"1\" class=\"dataframe\">\n",
       "  <thead>\n",
       "    <tr style=\"text-align: right;\">\n",
       "      <th></th>\n",
       "      <th>artist_id</th>\n",
       "      <th>full_name</th>\n",
       "    </tr>\n",
       "  </thead>\n",
       "  <tbody>\n",
       "    <tr>\n",
       "      <th>0</th>\n",
       "      <td>7iWiAD5LLKyiox2grgfmUT</td>\n",
       "      <td>Bullet For My Valentine</td>\n",
       "    </tr>\n",
       "  </tbody>\n",
       "</table>\n",
       "</div>"
      ],
      "text/plain": [
       "                artist_id                full_name\n",
       "0  7iWiAD5LLKyiox2grgfmUT  Bullet For My Valentine"
      ]
     },
     "execution_count": 5,
     "metadata": {},
     "output_type": "execute_result"
    }
   ],
   "source": [
    "artist = spotify.get_artist_details(artist=artist_name)\n",
    "artist"
   ]
  },
  {
   "cell_type": "markdown",
   "metadata": {},
   "source": [
    "### Data Quality"
   ]
  },
  {
   "cell_type": "code",
   "execution_count": 6,
   "metadata": {},
   "outputs": [
    {
     "data": {
      "text/html": [
       "<div>\n",
       "<style scoped>\n",
       "    .dataframe tbody tr th:only-of-type {\n",
       "        vertical-align: middle;\n",
       "    }\n",
       "\n",
       "    .dataframe tbody tr th {\n",
       "        vertical-align: top;\n",
       "    }\n",
       "\n",
       "    .dataframe thead th {\n",
       "        text-align: right;\n",
       "    }\n",
       "</style>\n",
       "<table border=\"1\" class=\"dataframe\">\n",
       "  <thead>\n",
       "    <tr style=\"text-align: right;\">\n",
       "      <th></th>\n",
       "      <th>id</th>\n",
       "      <th>artist_id</th>\n",
       "      <th>name</th>\n",
       "      <th>explicit</th>\n",
       "    </tr>\n",
       "  </thead>\n",
       "  <tbody>\n",
       "    <tr>\n",
       "      <th>0</th>\n",
       "      <td>1kdiiFGX1Htx0aVZYaDwEJ</td>\n",
       "      <td>7iWiAD5LLKyiox2grgfmUT</td>\n",
       "      <td>Tears Don't Fall</td>\n",
       "      <td>True</td>\n",
       "    </tr>\n",
       "    <tr>\n",
       "      <th>1</th>\n",
       "      <td>25GC50HslaaruyrKjdu0lP</td>\n",
       "      <td>7iWiAD5LLKyiox2grgfmUT</td>\n",
       "      <td>Your Betrayal</td>\n",
       "      <td>False</td>\n",
       "    </tr>\n",
       "    <tr>\n",
       "      <th>2</th>\n",
       "      <td>5JWDt4NZNiZQR8iMenaa7h</td>\n",
       "      <td>7iWiAD5LLKyiox2grgfmUT</td>\n",
       "      <td>Hand Of Blood</td>\n",
       "      <td>False</td>\n",
       "    </tr>\n",
       "    <tr>\n",
       "      <th>3</th>\n",
       "      <td>1KCAEG6JcsTzi8ddZzs0nk</td>\n",
       "      <td>7iWiAD5LLKyiox2grgfmUT</td>\n",
       "      <td>You Want a Battle? (Here's a War)</td>\n",
       "      <td>False</td>\n",
       "    </tr>\n",
       "    <tr>\n",
       "      <th>4</th>\n",
       "      <td>5G86ANtkCjfyF9Xfzrcffg</td>\n",
       "      <td>7iWiAD5LLKyiox2grgfmUT</td>\n",
       "      <td>Spit You Out</td>\n",
       "      <td>False</td>\n",
       "    </tr>\n",
       "    <tr>\n",
       "      <th>5</th>\n",
       "      <td>0CbESIyx34Usxoy7emUEBd</td>\n",
       "      <td>7iWiAD5LLKyiox2grgfmUT</td>\n",
       "      <td>All These Things I Hate (Revolve Around Me)</td>\n",
       "      <td>False</td>\n",
       "    </tr>\n",
       "    <tr>\n",
       "      <th>6</th>\n",
       "      <td>4wAoJkWWljekjvHjPYRbED</td>\n",
       "      <td>7iWiAD5LLKyiox2grgfmUT</td>\n",
       "      <td>Spit You Out</td>\n",
       "      <td>False</td>\n",
       "    </tr>\n",
       "    <tr>\n",
       "      <th>7</th>\n",
       "      <td>1ZEoYuekZQo62DLFtPVdqT</td>\n",
       "      <td>7iWiAD5LLKyiox2grgfmUT</td>\n",
       "      <td>Waking the Demon</td>\n",
       "      <td>False</td>\n",
       "    </tr>\n",
       "    <tr>\n",
       "      <th>8</th>\n",
       "      <td>7rGN3oqzCpG2mLcwoPwDQm</td>\n",
       "      <td>7iWiAD5LLKyiox2grgfmUT</td>\n",
       "      <td>Letting You Go</td>\n",
       "      <td>False</td>\n",
       "    </tr>\n",
       "    <tr>\n",
       "      <th>9</th>\n",
       "      <td>2jzqAyRGrsWrt45t5kGmfi</td>\n",
       "      <td>7iWiAD5LLKyiox2grgfmUT</td>\n",
       "      <td>Fever</td>\n",
       "      <td>True</td>\n",
       "    </tr>\n",
       "    <tr>\n",
       "      <th>20</th>\n",
       "      <td>NaN</td>\n",
       "      <td>7iWiAD5LLKyiox2grgfmUT</td>\n",
       "      <td>NaN</td>\n",
       "      <td>NaN</td>\n",
       "    </tr>\n",
       "  </tbody>\n",
       "</table>\n",
       "</div>"
      ],
      "text/plain": [
       "                        id               artist_id  \\\n",
       "0   1kdiiFGX1Htx0aVZYaDwEJ  7iWiAD5LLKyiox2grgfmUT   \n",
       "1   25GC50HslaaruyrKjdu0lP  7iWiAD5LLKyiox2grgfmUT   \n",
       "2   5JWDt4NZNiZQR8iMenaa7h  7iWiAD5LLKyiox2grgfmUT   \n",
       "3   1KCAEG6JcsTzi8ddZzs0nk  7iWiAD5LLKyiox2grgfmUT   \n",
       "4   5G86ANtkCjfyF9Xfzrcffg  7iWiAD5LLKyiox2grgfmUT   \n",
       "5   0CbESIyx34Usxoy7emUEBd  7iWiAD5LLKyiox2grgfmUT   \n",
       "6   4wAoJkWWljekjvHjPYRbED  7iWiAD5LLKyiox2grgfmUT   \n",
       "7   1ZEoYuekZQo62DLFtPVdqT  7iWiAD5LLKyiox2grgfmUT   \n",
       "8   7rGN3oqzCpG2mLcwoPwDQm  7iWiAD5LLKyiox2grgfmUT   \n",
       "9   2jzqAyRGrsWrt45t5kGmfi  7iWiAD5LLKyiox2grgfmUT   \n",
       "20                     NaN  7iWiAD5LLKyiox2grgfmUT   \n",
       "\n",
       "                                           name explicit  \n",
       "0                              Tears Don't Fall     True  \n",
       "1                                 Your Betrayal    False  \n",
       "2                                 Hand Of Blood    False  \n",
       "3             You Want a Battle? (Here's a War)    False  \n",
       "4                                  Spit You Out    False  \n",
       "5   All These Things I Hate (Revolve Around Me)    False  \n",
       "6                                  Spit You Out    False  \n",
       "7                              Waking the Demon    False  \n",
       "8                                Letting You Go    False  \n",
       "9                                         Fever     True  \n",
       "20                                          NaN      NaN  "
      ]
     },
     "execution_count": 6,
     "metadata": {},
     "output_type": "execute_result"
    }
   ],
   "source": [
    "# remove duplicates\n",
    "tracks = tracks.drop_duplicates(subset=['id'])\n",
    "tracks"
   ]
  },
  {
   "cell_type": "code",
   "execution_count": 7,
   "metadata": {},
   "outputs": [
    {
     "data": {
      "text/plain": [
       "id           1\n",
       "artist_id    0\n",
       "name         1\n",
       "explicit     1\n",
       "dtype: int64"
      ]
     },
     "execution_count": 7,
     "metadata": {},
     "output_type": "execute_result"
    }
   ],
   "source": [
    "# check missing values\n",
    "tracks.isna().sum()"
   ]
  },
  {
   "cell_type": "code",
   "execution_count": 8,
   "metadata": {},
   "outputs": [],
   "source": [
    "# missing values can be replaced or removed\n",
    "# quibus_tracks = quibus_tracks.fillna('N/A')\n",
    "tracks = tracks.dropna()"
   ]
  },
  {
   "cell_type": "code",
   "execution_count": 16,
   "metadata": {},
   "outputs": [
    {
     "data": {
      "text/html": [
       "<div>\n",
       "<style scoped>\n",
       "    .dataframe tbody tr th:only-of-type {\n",
       "        vertical-align: middle;\n",
       "    }\n",
       "\n",
       "    .dataframe tbody tr th {\n",
       "        vertical-align: top;\n",
       "    }\n",
       "\n",
       "    .dataframe thead th {\n",
       "        text-align: right;\n",
       "    }\n",
       "</style>\n",
       "<table border=\"1\" class=\"dataframe\">\n",
       "  <thead>\n",
       "    <tr style=\"text-align: right;\">\n",
       "      <th></th>\n",
       "      <th>id</th>\n",
       "      <th>artist_id</th>\n",
       "      <th>name</th>\n",
       "      <th>explicit</th>\n",
       "      <th>updated_datetime</th>\n",
       "    </tr>\n",
       "  </thead>\n",
       "  <tbody>\n",
       "    <tr>\n",
       "      <th>0</th>\n",
       "      <td>1kdiiFGX1Htx0aVZYaDwEJ</td>\n",
       "      <td>7iWiAD5LLKyiox2grgfmUT</td>\n",
       "      <td>Tears Don't Fall</td>\n",
       "      <td>True</td>\n",
       "      <td>2022-12-05 13:56:11.959471</td>\n",
       "    </tr>\n",
       "    <tr>\n",
       "      <th>1</th>\n",
       "      <td>25GC50HslaaruyrKjdu0lP</td>\n",
       "      <td>7iWiAD5LLKyiox2grgfmUT</td>\n",
       "      <td>Your Betrayal</td>\n",
       "      <td>False</td>\n",
       "      <td>2022-12-05 13:56:11.959471</td>\n",
       "    </tr>\n",
       "    <tr>\n",
       "      <th>2</th>\n",
       "      <td>5JWDt4NZNiZQR8iMenaa7h</td>\n",
       "      <td>7iWiAD5LLKyiox2grgfmUT</td>\n",
       "      <td>Hand Of Blood</td>\n",
       "      <td>False</td>\n",
       "      <td>2022-12-05 13:56:11.959471</td>\n",
       "    </tr>\n",
       "  </tbody>\n",
       "</table>\n",
       "</div>"
      ],
      "text/plain": [
       "                       id               artist_id              name explicit  \\\n",
       "0  1kdiiFGX1Htx0aVZYaDwEJ  7iWiAD5LLKyiox2grgfmUT  Tears Don't Fall     True   \n",
       "1  25GC50HslaaruyrKjdu0lP  7iWiAD5LLKyiox2grgfmUT     Your Betrayal    False   \n",
       "2  5JWDt4NZNiZQR8iMenaa7h  7iWiAD5LLKyiox2grgfmUT     Hand Of Blood    False   \n",
       "\n",
       "            updated_datetime  \n",
       "0 2022-12-05 13:56:11.959471  \n",
       "1 2022-12-05 13:56:11.959471  \n",
       "2 2022-12-05 13:56:11.959471  "
      ]
     },
     "execution_count": 16,
     "metadata": {},
     "output_type": "execute_result"
    }
   ],
   "source": [
    "# add audit column\n",
    "tracks = tracks.assign(updated_datetime= datetime.now())\n",
    "tracks.head(3)"
   ]
  },
  {
   "cell_type": "markdown",
   "metadata": {},
   "source": [
    "### Load data to BigQuery"
   ]
  },
  {
   "cell_type": "code",
   "execution_count": 10,
   "metadata": {},
   "outputs": [],
   "source": [
    "google = google_helper.GoogleHelper()\n",
    "google.load_data_from_dataframe(table='dim_artist', dataframe=artist)\n",
    "google.load_data_from_dataframe(table='dim_song', dataframe=tracks)"
   ]
  },
  {
   "cell_type": "code",
   "execution_count": 11,
   "metadata": {},
   "outputs": [
    {
     "name": "stdout",
     "output_type": "stream",
     "text": [
      "25GC50HslaaruyrKjdu0lP 7iWiAD5LLKyiox2grgfmUT Your Betrayal 2022-12-05 13:55:45.387514\n",
      "5JWDt4NZNiZQR8iMenaa7h 7iWiAD5LLKyiox2grgfmUT Hand Of Blood 2022-12-05 13:55:45.387514\n",
      "1KCAEG6JcsTzi8ddZzs0nk 7iWiAD5LLKyiox2grgfmUT You Want a Battle? (Here's a War) 2022-12-05 13:55:45.387514\n",
      "5G86ANtkCjfyF9Xfzrcffg 7iWiAD5LLKyiox2grgfmUT Spit You Out 2022-12-05 13:55:45.387514\n",
      "0CbESIyx34Usxoy7emUEBd 7iWiAD5LLKyiox2grgfmUT All These Things I Hate (Revolve Around Me) 2022-12-05 13:55:45.387514\n"
     ]
    }
   ],
   "source": [
    "results = google.query(\"\"\"\n",
    "    SELECT id, artist_id, name, explicit, updated_datetime\n",
    "      FROM {}.{}.{}\n",
    "    LIMIT 5\n",
    "\"\"\".format(google.get_project_id(), google.get_dataset(), 'dim_song'))\n",
    "\n",
    "for row in results:\n",
    "    print(row['id'], row['artist_id'], row['name'], row['updated_datetime'])"
   ]
  },
  {
   "cell_type": "code",
   "execution_count": 12,
   "metadata": {},
   "outputs": [],
   "source": [
    "results = google.query(\"\"\"\n",
    "    SELECT count(*) cnt, id \n",
    "      FROM {}.{}.{} GROUP BY id HAVING cnt > 1\n",
    "\"\"\".format(google.get_project_id(), google.get_dataset(), 'dim_song'))\n",
    "\n",
    "for row in results:\n",
    "    print(row['id'], row['cnt'])"
   ]
  },
  {
   "cell_type": "code",
   "execution_count": 13,
   "metadata": {},
   "outputs": [],
   "source": [
    "# remove duplicates - dense rank\n",
    "results = google.query(\"\"\"\n",
    "    SELECT id, artist_id, updated_datetime, DENSE_RANK() OVER (PARTITION BY id ORDER BY updated_datetime DESC) rnk \n",
    "      FROM {}.{}.{}\n",
    "    WHERE id = '024TgtXFxGA9oxeW36nzI8'\n",
    "\"\"\".format(google.get_project_id(), google.get_dataset(), 'dim_song'))\n",
    "\n",
    "for row in results:\n",
    "    print(row['id'], row['artist_id'], row['updated_datetime'], row['rnk'])\n",
    "\n",
    "# remove duplicates - row number\n",
    "results = google.query(\"\"\"\n",
    "    SELECT id, artist_id, updated_datetime, ROW_NUMBER() OVER (PARTITION BY id ORDER BY updated_datetime DESC) rnk \n",
    "      FROM {}.{}.{}\n",
    "    WHERE id = '024TgtXFxGA9oxeW36nzI8'\n",
    "\"\"\".format(google.get_project_id(), google.get_dataset(), 'dim_song'))\n",
    "\n",
    "for row in results:\n",
    "    print(row['id'], row['artist_id'], row['updated_datetime'], row['rnk'])\n"
   ]
  },
  {
   "cell_type": "code",
   "execution_count": 14,
   "metadata": {},
   "outputs": [
    {
     "name": "stdout",
     "output_type": "stream",
     "text": [
      "\n",
      "DELETE\n",
      " FROM spotify-data-explorer-369917.data_explorer.dim_song AS t\n",
      "WHERE (SELECT ROW_NUMBER() OVER (PARTITION BY id ORDER BY updated_datetime DESC)\n",
      "         FROM spotify-data-explorer-369917.data_explorer.dim_song AS dups\n",
      "       WHERE t.id = dups.id AND t.updated_datetime = dups.updated_datetime) > 1\n",
      "  AND t.id = '024TgtXFxGA9oxeW36nzI8';\n",
      "\n"
     ]
    }
   ],
   "source": [
    "delete_dups = \"\"\"\n",
    "DELETE\n",
    " FROM {0}.{1}.{2} AS t\n",
    "WHERE (SELECT ROW_NUMBER() OVER (PARTITION BY id ORDER BY updated_datetime DESC)\n",
    "         FROM {0}.{1}.{2} AS dups\n",
    "       WHERE t.id = dups.id AND t.updated_datetime = dups.updated_datetime) > 1\n",
    "  AND t.id = '024TgtXFxGA9oxeW36nzI8';\n",
    "\"\"\".format(google.get_project_id(), google.get_dataset(), 'dim_song')\n",
    "\n",
    "print(delete_dups)\n",
    "\n",
    "google.query(delete_dups)"
   ]
  },
  {
   "cell_type": "code",
   "execution_count": 15,
   "metadata": {},
   "outputs": [],
   "source": [
    "# drop table\n",
    "# google.drop_table('{}.{}.{}'.format(google.get_project_id(), google.get_dataset(), 'dim_song'))\n",
    "# google.drop_table('{}.{}.{}'.format(google.get_project_id(), google.get_dataset(), 'dim_artist'))"
   ]
  }
 ],
 "metadata": {
  "kernelspec": {
   "display_name": "Python 3.10.5 64-bit",
   "language": "python",
   "name": "python3"
  },
  "language_info": {
   "codemirror_mode": {
    "name": "ipython",
    "version": 3
   },
   "file_extension": ".py",
   "mimetype": "text/x-python",
   "name": "python",
   "nbconvert_exporter": "python",
   "pygments_lexer": "ipython3",
   "version": "3.10.5"
  },
  "orig_nbformat": 4,
  "vscode": {
   "interpreter": {
    "hash": "aee8b7b246df8f9039afb4144a1f6fd8d2ca17a180786b69acc140d282b71a49"
   }
  }
 },
 "nbformat": 4,
 "nbformat_minor": 2
}
