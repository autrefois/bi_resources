{
 "cells": [
  {
   "cell_type": "markdown",
   "metadata": {},
   "source": [
    "\n",
    "If you do not have Python already installed than follow the steps down below. Otherwise, jump to 3.1. and 3.2. to make sure it works as expected.\n",
    "1. Go to https://www.python.org/downloads/, download Python version 3.10.8 (preferably)\n",
    "2. IMPORTANT: when installing Python allow it to be added to the Path variable. Otherwise, you will have to do that manually.\n",
    "3. After installation, check that everything is alright by opening CMD and executing: <br>\n",
    "    1.  python3 --version <br>\n",
    "    2.  pip list <br>\n",
    "    If you encounter errors such as: \"Python is not recognized as an internal or external command.\" or \"'pip' is not recognized as an internal or external command\", then you will want to follow the steps decribed in the following links: <br>\n",
    "         1.  https://www.educative.io/answers/how-to-add-python-to-path-variable-in-windows <br>\n",
    "         2. https://stackoverflow.com/questions/23708898/pip-is-not-recognized-as-an-internal-or-external-command <br><br><br>\n",
    "\n",
    "\n",
    "Now that we have Python installed we need an IDE (Integrated Development Environment). Our preferred one is Visual Studio Code, however you can go for the one you like the most. Below steps refer to VSCode.\n",
    "1. Execute below cell\n",
    "2. You will be recommended a couple packages and extensions to be installed (watch out the right bottom corner for a pop-up). Allow them to be installed. (i.e. Python, Jupyter Notebook)\n",
    "3. After they were successfully installed, you are all set! <br><br><br>\n",
    "\n",
    "\n",
    "\n",
    "Notebooks are widely used among data analysts or scientists. \n",
    "A notebook consists in cells which can be executed individually. This enables faster development and debugging. \n",
    "E.g. we read a .csv file about schools into a dataframe so that we can analyse it. If we would use a script instead of a notebook, the reading would happen each time we execute the script. Also, if we are to add a new step in our analysis, we would have to comment the previous ones so that we can see the results only for the new one and save time. Notebooks make it a lot easier. As mentioned above, cells can be executed individually so we can read the data once and use it as many times as we need.  \n",
    "A dataframe is a a data structure that organizes data into a 2-dimensional table of rows and columns, much like an Excel table. <br><br><br>\n",
    "\n",
    "\n",
    "\n",
    "Create a new notebook:\n",
    "1. add new file with .ipynb extension OR\n",
    "2. press CTRL+SHIFT+P, type Jupyter and you will get the option Create Jupyter Notebook\n"
   ]
  },
  {
   "cell_type": "code",
   "execution_count": null,
   "metadata": {},
   "outputs": [],
   "source": [
    "%pip install --upgrade pip\n",
    "print(1)"
   ]
  }
 ],
 "metadata": {
  "kernelspec": {
   "display_name": "Python 3.9.6 64-bit",
   "language": "python",
   "name": "python3"
  },
  "language_info": {
   "codemirror_mode": {
    "name": "ipython",
    "version": 3
   },
   "file_extension": ".py",
   "mimetype": "text/x-python",
   "name": "python",
   "nbconvert_exporter": "python",
   "pygments_lexer": "ipython3",
   "version": "3.9.6"
  },
  "orig_nbformat": 4,
  "vscode": {
   "interpreter": {
    "hash": "31f2aee4e71d21fbe5cf8b01ff0e069b9275f58929596ceb00d14d90e3e16cd6"
   }
  }
 },
 "nbformat": 4,
 "nbformat_minor": 2
}
